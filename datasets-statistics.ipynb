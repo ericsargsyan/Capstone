{
 "cells": [
  {
   "cell_type": "code",
   "execution_count": 4,
   "id": "e873a80d",
   "metadata": {},
   "outputs": [],
   "source": [
    "import os\n",
    "import numpy as np\n",
    "import pandas as pd\n",
    "import soundfile as sf\n",
    "import matplotlib.pyplot as plt\n",
    "from tqdm import tqdm"
   ]
  },
  {
   "cell_type": "code",
   "execution_count": 5,
   "id": "4f352342",
   "metadata": {},
   "outputs": [],
   "source": [
    "path = '/media/capstone/HDD2/source_data/MozillaCV/en/validated.tsv'"
   ]
  },
  {
   "cell_type": "code",
   "execution_count": 6,
   "id": "afbb8e84",
   "metadata": {},
   "outputs": [],
   "source": [
    "en_data = pd.read_table(path)[['path', 'accents']]"
   ]
  },
  {
   "cell_type": "code",
   "execution_count": 4,
   "id": "7370eb45",
   "metadata": {},
   "outputs": [],
   "source": [
    "durations = []"
   ]
  },
  {
   "cell_type": "code",
   "execution_count": 6,
   "id": "6354a56f",
   "metadata": {},
   "outputs": [
    {
     "name": "stderr",
     "output_type": "stream",
     "text": [
      "100%|██████████████████████████████████████████████████████| 212/212 [00:00<00:00, 5463.62it/s]\n"
     ]
    }
   ],
   "source": [
    "for audio in tqdm(en_data['path'][:212]):\n",
    "    data, samplerate = sf.read(os.path.join('/media/capstone/HDD2/source_data/MozillaCV/en/clips', f'{audio[:-3]}wav', ))\n",
    "    duration = data.shape[0] / samplerate\n",
    "    durations.append(duration)"
   ]
  },
  {
   "cell_type": "code",
   "execution_count": 9,
   "id": "cfbfedd0",
   "metadata": {},
   "outputs": [
    {
     "data": {
      "image/png": "[encoded data removed]",
      "text/plain": [
       "<Figure size 640x480 with 1 Axes>"
      ]
     },
     "metadata": {},
     "output_type": "display_data"
    }
   ],
   "source": [
    "plt.hist(durations)\n",
    "plt.savefig('hist.png')"
   ]
  },
  {
   "cell_type": "code",
   "execution_count": 8,
   "id": "53164bcc",
   "metadata": {},
   "outputs": [],
   "source": [
    "accent_data = en_data[en_data['accents'].notnull()]"
   ]
  },
  {
   "cell_type": "code",
   "execution_count": 13,
   "id": "120080cf",
   "metadata": {},
   "outputs": [
    {
     "data": {
      "text/html": [
       "<div>\n",
       "<style scoped>\n",
       "    .dataframe tbody tr th:only-of-type {\n",
       "        vertical-align: middle;\n",
       "    }\n",
       "\n",
       "    .dataframe tbody tr th {\n",
       "        vertical-align: top;\n",
       "    }\n",
       "\n",
       "    .dataframe thead th {\n",
       "        text-align: right;\n",
       "    }\n",
       "</style>\n",
       "<table border=\"1\" class=\"dataframe\">\n",
       "  <thead>\n",
       "    <tr style=\"text-align: right;\">\n",
       "      <th></th>\n",
       "      <th>path</th>\n",
       "    </tr>\n",
       "    <tr>\n",
       "      <th>accents</th>\n",
       "      <th></th>\n",
       "    </tr>\n",
       "  </thead>\n",
       "  <tbody>\n",
       "    <tr>\n",
       "      <th>United States English</th>\n",
       "      <td>389397</td>\n",
       "    </tr>\n",
       "    <tr>\n",
       "      <th>England English</th>\n",
       "      <td>134595</td>\n",
       "    </tr>\n",
       "    <tr>\n",
       "      <th>India and South Asia (India, Pakistan, Sri Lanka)</th>\n",
       "      <td>101067</td>\n",
       "    </tr>\n",
       "    <tr>\n",
       "      <th>Canadian English</th>\n",
       "      <td>61132</td>\n",
       "    </tr>\n",
       "    <tr>\n",
       "      <th>Australian English</th>\n",
       "      <td>51593</td>\n",
       "    </tr>\n",
       "    <tr>\n",
       "      <th>...</th>\n",
       "      <td>...</td>\n",
       "    </tr>\n",
       "    <tr>\n",
       "      <th>Non-native</th>\n",
       "      <td>1</td>\n",
       "    </tr>\n",
       "    <tr>\n",
       "      <th>Polish English</th>\n",
       "      <td>1</td>\n",
       "    </tr>\n",
       "    <tr>\n",
       "      <th>United States English,California</th>\n",
       "      <td>1</td>\n",
       "    </tr>\n",
       "    <tr>\n",
       "      <th>United States English,Canadian English,Indo-Canadian English</th>\n",
       "      <td>1</td>\n",
       "    </tr>\n",
       "    <tr>\n",
       "      <th>Выраженный украинский акцент</th>\n",
       "      <td>1</td>\n",
       "    </tr>\n",
       "  </tbody>\n",
       "</table>\n",
       "<p>227 rows × 1 columns</p>\n",
       "</div>"
      ],
      "text/plain": [
       "                                                      path\n",
       "accents                                                   \n",
       "United States English                               389397\n",
       "England English                                     134595\n",
       "India and South Asia (India, Pakistan, Sri Lanka)   101067\n",
       "Canadian English                                     61132\n",
       "Australian English                                   51593\n",
       "...                                                    ...\n",
       "Non-native                                               1\n",
       "Polish English                                           1\n",
       "United States English,California                         1\n",
       "United States English,Canadian English,Indo-Can...       1\n",
       "Выраженный украинский акцент                             1\n",
       "\n",
       "[227 rows x 1 columns]"
      ]
     },
     "execution_count": 13,
     "metadata": {},
     "output_type": "execute_result"
    }
   ],
   "source": [
    "accent_data.groupby(['accents']).count().sort_values(by='path', ascending=False)"
   ]
  },
  {
   "cell_type": "code",
   "execution_count": null,
   "id": "ebec4ebd",
   "metadata": {},
   "outputs": [],
   "source": []
  }
 ],
 "metadata": {
  "kernelspec": {
   "display_name": "Python 3 (ipykernel)",
   "language": "python",
   "name": "python3"
  },
  "language_info": {
   "codemirror_mode": {
    "name": "ipython",
    "version": 3
   },
   "file_extension": ".py",
   "mimetype": "text/x-python",
   "name": "python",
   "nbconvert_exporter": "python",
   "pygments_lexer": "ipython3",
   "version": "3.8.10"
  }
 },
 "nbformat": 4,
 "nbformat_minor": 5
}
