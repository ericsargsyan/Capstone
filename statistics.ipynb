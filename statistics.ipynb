{
 "cells": [
  {
   "cell_type": "code",
   "execution_count": 5,
   "id": "a629d501",
   "metadata": {},
   "outputs": [],
   "source": [
    "import torch\n",
    "from torchmetrics.classification import MulticlassF1Score"
   ]
  },
  {
   "cell_type": "code",
   "execution_count": 6,
   "id": "e287926a",
   "metadata": {},
   "outputs": [
    {
     "data": {
      "text/plain": [
       "tensor([0.6667, 0.6667, 1.0000])"
      ]
     },
     "execution_count": 6,
     "metadata": {},
     "output_type": "execute_result"
    }
   ],
   "source": [
    "target = torch.tensor([2, 1, 0, 0])\n",
    "preds = torch.tensor([2, 1, 0, 1])\n",
    "mcf1s = MulticlassF1Score(num_classes=3, average=None)\n",
    "mcf1s(preds, target)"
   ]
  },
  {
   "cell_type": "code",
   "execution_count": 7,
   "id": "9e16739b",
   "metadata": {},
   "outputs": [],
   "source": [
    "from torchmetrics.classification import Accuracy"
   ]
  },
  {
   "cell_type": "code",
   "execution_count": 19,
   "id": "6c5e7e4e",
   "metadata": {},
   "outputs": [],
   "source": [
    "acc = Accuracy(task='binary')"
   ]
  },
  {
   "cell_type": "code",
   "execution_count": 28,
   "id": "fc134f05",
   "metadata": {},
   "outputs": [],
   "source": [
    "a = torch.tensor([1, 0.5, 1, 0, 0])\n",
    "b = torch.tensor([1, 1, 1, 1, 0])"
   ]
  },
  {
   "cell_type": "code",
   "execution_count": 29,
   "id": "b214ec30",
   "metadata": {},
   "outputs": [],
   "source": [
    "c = torch.tensor([1, 1, 1, 1, 1])\n",
    "d = torch.tensor([0, 0, 0, 0, 0])"
   ]
  },
  {
   "cell_type": "code",
   "execution_count": 30,
   "id": "4a2fdc07",
   "metadata": {},
   "outputs": [
    {
     "data": {
      "text/plain": [
       "tensor(0.6000)"
      ]
     },
     "execution_count": 30,
     "metadata": {},
     "output_type": "execute_result"
    }
   ],
   "source": [
    "acc(a, b)"
   ]
  },
  {
   "cell_type": "code",
   "execution_count": 26,
   "id": "99427a1d",
   "metadata": {},
   "outputs": [
    {
     "data": {
      "text/plain": [
       "tensor(0.)"
      ]
     },
     "execution_count": 26,
     "metadata": {},
     "output_type": "execute_result"
    }
   ],
   "source": [
    "acc(c, d)"
   ]
  },
  {
   "cell_type": "code",
   "execution_count": 27,
   "id": "c1aec29f",
   "metadata": {},
   "outputs": [
    {
     "data": {
      "text/plain": [
       "tensor(0.4000)"
      ]
     },
     "execution_count": 27,
     "metadata": {},
     "output_type": "execute_result"
    }
   ],
   "source": [
    "acc.compute()"
   ]
  },
  {
   "cell_type": "code",
   "execution_count": 31,
   "id": "2ce7bab4",
   "metadata": {},
   "outputs": [],
   "source": [
    "import os"
   ]
  },
  {
   "cell_type": "code",
   "execution_count": 1,
   "id": "b9982e98",
   "metadata": {},
   "outputs": [],
   "source": [
    "import pandas as pd\n",
    "from collections import Counter"
   ]
  },
  {
   "cell_type": "code",
   "execution_count": 2,
   "id": "422fba23",
   "metadata": {},
   "outputs": [],
   "source": [
    "train_path = \"/media/capstone/HDD2/data/labels/Train_mozilla.csv\"\n",
    "dev_path = \"/media/capstone/HDD2/data/labels/Dev_mozilla.csv\"\n",
    "test_path = \"/media/capstone/HDD2/data/labels/Test_mozilla.csv\""
   ]
  },
  {
   "cell_type": "code",
   "execution_count": 3,
   "id": "a1e3f7a7",
   "metadata": {},
   "outputs": [],
   "source": [
    "data_train = pd.read_csv(train_path)\n",
    "data_dev = pd.read_csv(dev_path)\n",
    "data_test = pd.read_csv(test_path)"
   ]
  },
  {
   "cell_type": "code",
   "execution_count": null,
   "id": "e6dc5d99",
   "metadata": {},
   "outputs": [],
   "source": []
  },
  {
   "cell_type": "code",
   "execution_count": null,
   "id": "7a2e70aa",
   "metadata": {},
   "outputs": [],
   "source": [
    "1000+"
   ]
  },
  {
   "cell_type": "code",
   "execution_count": 4,
   "id": "638d8a24",
   "metadata": {},
   "outputs": [
    {
     "data": {
      "text/plain": [
       "Counter({'en': 500000,\n",
       "         'fr': 500000,\n",
       "         'de': 500000,\n",
       "         'es': 274835,\n",
       "         'be': 500000,\n",
       "         'el': 12270,\n",
       "         'it': 199126,\n",
       "         'ca': 500000,\n",
       "         'hy-AM': 632,\n",
       "         'ka': 10006,\n",
       "         'bg': 3401})"
      ]
     },
     "execution_count": 4,
     "metadata": {},
     "output_type": "execute_result"
    }
   ],
   "source": [
    "Counter(data_train.language)"
   ]
  },
  {
   "cell_type": "code",
   "execution_count": 59,
   "id": "69e5856e",
   "metadata": {},
   "outputs": [
    {
     "data": {
      "text/plain": [
       "2000"
      ]
     },
     "execution_count": 59,
     "metadata": {},
     "output_type": "execute_result"
    }
   ],
   "source": [
    "1000+400+100+500"
   ]
  },
  {
   "cell_type": "code",
   "execution_count": 60,
   "id": "e60ebe86",
   "metadata": {},
   "outputs": [
    {
     "data": {
      "text/plain": [
       "2.4000000000000004"
      ]
     },
     "execution_count": 60,
     "metadata": {},
     "output_type": "execute_result"
    }
   ],
   "source": [
    "1.1+0.1+0.3+0.4+0.5"
   ]
  },
  {
   "cell_type": "code",
   "execution_count": 63,
   "id": "1667371e",
   "metadata": {},
   "outputs": [
    {
     "data": {
      "text/plain": [
       "2.7777777777777777"
      ]
     },
     "execution_count": 63,
     "metadata": {},
     "output_type": "execute_result"
    }
   ],
   "source": [
    "5*(1-2.4/5.4)"
   ]
  },
  {
   "cell_type": "code",
   "execution_count": null,
   "id": "65190d06",
   "metadata": {},
   "outputs": [],
   "source": []
  },
  {
   "cell_type": "code",
   "execution_count": null,
   "id": "fd832c94",
   "metadata": {},
   "outputs": [],
   "source": []
  },
  {
   "cell_type": "code",
   "execution_count": 55,
   "id": "f4d7b6b1",
   "metadata": {},
   "outputs": [
    {
     "data": {
      "text/plain": [
       "(5458588, 2)"
      ]
     },
     "execution_count": 55,
     "metadata": {},
     "output_type": "execute_result"
    }
   ],
   "source": [
    "data_train.shape"
   ]
  },
  {
   "cell_type": "code",
   "execution_count": 56,
   "id": "c986531e",
   "metadata": {},
   "outputs": [
    {
     "data": {
      "text/plain": [
       "0.35185185185185186"
      ]
     },
     "execution_count": 56,
     "metadata": {},
     "output_type": "execute_result"
    }
   ],
   "source": [
    "1900/5400"
   ]
  },
  {
   "cell_type": "code",
   "execution_count": 58,
   "id": "ea1789a1",
   "metadata": {},
   "outputs": [
    {
     "data": {
      "text/plain": [
       "3.25"
      ]
     },
     "execution_count": 58,
     "metadata": {},
     "output_type": "execute_result"
    }
   ],
   "source": [
    "5*0.65"
   ]
  },
  {
   "cell_type": "code",
   "execution_count": null,
   "id": "a2a4938b",
   "metadata": {},
   "outputs": [],
   "source": []
  },
  {
   "cell_type": "code",
   "execution_count": null,
   "id": "c7abeacd",
   "metadata": {},
   "outputs": [],
   "source": []
  },
  {
   "cell_type": "code",
   "execution_count": 48,
   "id": "5fb90e4a",
   "metadata": {},
   "outputs": [
    {
     "data": {
      "text/plain": [
       "(5458588, 2)"
      ]
     },
     "execution_count": 48,
     "metadata": {},
     "output_type": "execute_result"
    }
   ],
   "source": [
    "data_train.shape"
   ]
  },
  {
   "cell_type": "code",
   "execution_count": 5,
   "id": "4d1792b8",
   "metadata": {},
   "outputs": [
    {
     "data": {
      "text/plain": [
       "Counter({'en': 16353,\n",
       "         'fr': 16089,\n",
       "         'de': 16113,\n",
       "         'es': 15520,\n",
       "         'be': 15876,\n",
       "         'el': 1663,\n",
       "         'it': 15068,\n",
       "         'ca': 16308,\n",
       "         'hy-AM': 364,\n",
       "         'ka': 4424,\n",
       "         'bg': 2358})"
      ]
     },
     "execution_count": 5,
     "metadata": {},
     "output_type": "execute_result"
    }
   ],
   "source": [
    "Counter(data_dev.language)"
   ]
  },
  {
   "cell_type": "code",
   "execution_count": 44,
   "id": "8e0752b8",
   "metadata": {},
   "outputs": [
    {
     "data": {
      "text/plain": [
       "(113354, 3)"
      ]
     },
     "execution_count": 44,
     "metadata": {},
     "output_type": "execute_result"
    }
   ],
   "source": [
    "data_dev.shape"
   ]
  },
  {
   "cell_type": "code",
   "execution_count": 6,
   "id": "fe9439ae",
   "metadata": {},
   "outputs": [
    {
     "data": {
      "text/plain": [
       "Counter({'en': 15862,\n",
       "         'fr': 16089,\n",
       "         'de': 16113,\n",
       "         'es': 15520,\n",
       "         'be': 15876,\n",
       "         'el': 1704,\n",
       "         'it': 15096,\n",
       "         'ca': 16363,\n",
       "         'hy-AM': 442,\n",
       "         'ka': 4532,\n",
       "         'bg': 2463})"
      ]
     },
     "execution_count": 6,
     "metadata": {},
     "output_type": "execute_result"
    }
   ],
   "source": [
    "Counter(data_test.language)"
   ]
  },
  {
   "cell_type": "code",
   "execution_count": 45,
   "id": "9bb4f006",
   "metadata": {},
   "outputs": [
    {
     "data": {
      "text/plain": [
       "(113065, 2)"
      ]
     },
     "execution_count": 45,
     "metadata": {},
     "output_type": "execute_result"
    }
   ],
   "source": [
    "data_test.shape"
   ]
  },
  {
   "cell_type": "code",
   "execution_count": 67,
   "id": "b4623d5c",
   "metadata": {},
   "outputs": [],
   "source": [
    "classes = data_train.language.unique()"
   ]
  },
  {
   "cell_type": "code",
   "execution_count": 83,
   "id": "e97f733f",
   "metadata": {},
   "outputs": [],
   "source": [
    "max_count = 500000"
   ]
  },
  {
   "cell_type": "code",
   "execution_count": 84,
   "id": "7fc72be0",
   "metadata": {},
   "outputs": [],
   "source": [
    "new_datas = []"
   ]
  },
  {
   "cell_type": "code",
   "execution_count": 85,
   "id": "2f19a760",
   "metadata": {},
   "outputs": [],
   "source": [
    "for c in classes:\n",
    "\n",
    "    data_part = data_train[data_train['language'] == c]\n",
    "    if data_part.shape[0] > max_count:\n",
    "        data_part = data_part.sample(max_count)\n",
    "        \n",
    "    new_datas.append(data_part)"
   ]
  },
  {
   "cell_type": "code",
   "execution_count": 86,
   "id": "096f498c",
   "metadata": {},
   "outputs": [
    {
     "data": {
      "text/html": [
       "<div>\n",
       "<style scoped>\n",
       "    .dataframe tbody tr th:only-of-type {\n",
       "        vertical-align: middle;\n",
       "    }\n",
       "\n",
       "    .dataframe tbody tr th {\n",
       "        vertical-align: top;\n",
       "    }\n",
       "\n",
       "    .dataframe thead th {\n",
       "        text-align: right;\n",
       "    }\n",
       "</style>\n",
       "<table border=\"1\" class=\"dataframe\">\n",
       "  <thead>\n",
       "    <tr style=\"text-align: right;\">\n",
       "      <th></th>\n",
       "      <th>path</th>\n",
       "      <th>language</th>\n",
       "    </tr>\n",
       "  </thead>\n",
       "  <tbody>\n",
       "    <tr>\n",
       "      <th>1327129</th>\n",
       "      <td>/media/capstone/HDD3/data/language_detection/M...</td>\n",
       "      <td>en</td>\n",
       "    </tr>\n",
       "    <tr>\n",
       "      <th>651544</th>\n",
       "      <td>/media/capstone/HDD3/data/language_detection/M...</td>\n",
       "      <td>en</td>\n",
       "    </tr>\n",
       "    <tr>\n",
       "      <th>117083</th>\n",
       "      <td>/media/capstone/HDD3/data/language_detection/M...</td>\n",
       "      <td>en</td>\n",
       "    </tr>\n",
       "    <tr>\n",
       "      <th>178623</th>\n",
       "      <td>/media/capstone/HDD3/data/language_detection/M...</td>\n",
       "      <td>en</td>\n",
       "    </tr>\n",
       "    <tr>\n",
       "      <th>766780</th>\n",
       "      <td>/media/capstone/HDD3/data/language_detection/M...</td>\n",
       "      <td>en</td>\n",
       "    </tr>\n",
       "    <tr>\n",
       "      <th>...</th>\n",
       "      <td>...</td>\n",
       "      <td>...</td>\n",
       "    </tr>\n",
       "    <tr>\n",
       "      <th>855926</th>\n",
       "      <td>/media/capstone/HDD3/data/language_detection/M...</td>\n",
       "      <td>en</td>\n",
       "    </tr>\n",
       "    <tr>\n",
       "      <th>1160314</th>\n",
       "      <td>/media/capstone/HDD3/data/language_detection/M...</td>\n",
       "      <td>en</td>\n",
       "    </tr>\n",
       "    <tr>\n",
       "      <th>1488435</th>\n",
       "      <td>/media/capstone/HDD3/data/language_detection/M...</td>\n",
       "      <td>en</td>\n",
       "    </tr>\n",
       "    <tr>\n",
       "      <th>611021</th>\n",
       "      <td>/media/capstone/HDD3/data/language_detection/M...</td>\n",
       "      <td>en</td>\n",
       "    </tr>\n",
       "    <tr>\n",
       "      <th>938911</th>\n",
       "      <td>/media/capstone/HDD3/data/language_detection/M...</td>\n",
       "      <td>en</td>\n",
       "    </tr>\n",
       "  </tbody>\n",
       "</table>\n",
       "<p>500000 rows × 2 columns</p>\n",
       "</div>"
      ],
      "text/plain": [
       "                                                      path language\n",
       "1327129  /media/capstone/HDD3/data/language_detection/M...       en\n",
       "651544   /media/capstone/HDD3/data/language_detection/M...       en\n",
       "117083   /media/capstone/HDD3/data/language_detection/M...       en\n",
       "178623   /media/capstone/HDD3/data/language_detection/M...       en\n",
       "766780   /media/capstone/HDD3/data/language_detection/M...       en\n",
       "...                                                    ...      ...\n",
       "855926   /media/capstone/HDD3/data/language_detection/M...       en\n",
       "1160314  /media/capstone/HDD3/data/language_detection/M...       en\n",
       "1488435  /media/capstone/HDD3/data/language_detection/M...       en\n",
       "611021   /media/capstone/HDD3/data/language_detection/M...       en\n",
       "938911   /media/capstone/HDD3/data/language_detection/M...       en\n",
       "\n",
       "[500000 rows x 2 columns]"
      ]
     },
     "execution_count": 86,
     "metadata": {},
     "output_type": "execute_result"
    }
   ],
   "source": [
    "new_datas[0]"
   ]
  },
  {
   "cell_type": "code",
   "execution_count": 94,
   "id": "ec2c6373",
   "metadata": {},
   "outputs": [],
   "source": [
    "cutted_data = pd.concat(new_datas)"
   ]
  },
  {
   "cell_type": "code",
   "execution_count": 95,
   "id": "e6a79fc7",
   "metadata": {},
   "outputs": [
    {
     "data": {
      "text/html": [
       "<div>\n",
       "<style scoped>\n",
       "    .dataframe tbody tr th:only-of-type {\n",
       "        vertical-align: middle;\n",
       "    }\n",
       "\n",
       "    .dataframe tbody tr th {\n",
       "        vertical-align: top;\n",
       "    }\n",
       "\n",
       "    .dataframe thead th {\n",
       "        text-align: right;\n",
       "    }\n",
       "</style>\n",
       "<table border=\"1\" class=\"dataframe\">\n",
       "  <thead>\n",
       "    <tr style=\"text-align: right;\">\n",
       "      <th></th>\n",
       "      <th>path</th>\n",
       "      <th>language</th>\n",
       "    </tr>\n",
       "  </thead>\n",
       "  <tbody>\n",
       "    <tr>\n",
       "      <th>1327129</th>\n",
       "      <td>/media/capstone/HDD3/data/language_detection/M...</td>\n",
       "      <td>en</td>\n",
       "    </tr>\n",
       "    <tr>\n",
       "      <th>651544</th>\n",
       "      <td>/media/capstone/HDD3/data/language_detection/M...</td>\n",
       "      <td>en</td>\n",
       "    </tr>\n",
       "    <tr>\n",
       "      <th>117083</th>\n",
       "      <td>/media/capstone/HDD3/data/language_detection/M...</td>\n",
       "      <td>en</td>\n",
       "    </tr>\n",
       "    <tr>\n",
       "      <th>178623</th>\n",
       "      <td>/media/capstone/HDD3/data/language_detection/M...</td>\n",
       "      <td>en</td>\n",
       "    </tr>\n",
       "    <tr>\n",
       "      <th>766780</th>\n",
       "      <td>/media/capstone/HDD3/data/language_detection/M...</td>\n",
       "      <td>en</td>\n",
       "    </tr>\n",
       "    <tr>\n",
       "      <th>...</th>\n",
       "      <td>...</td>\n",
       "      <td>...</td>\n",
       "    </tr>\n",
       "    <tr>\n",
       "      <th>5458583</th>\n",
       "      <td>/media/capstone/HDD2/data/MozillaCV/hy-AM/Trai...</td>\n",
       "      <td>hy-AM</td>\n",
       "    </tr>\n",
       "    <tr>\n",
       "      <th>5458584</th>\n",
       "      <td>/media/capstone/HDD2/data/MozillaCV/hy-AM/Trai...</td>\n",
       "      <td>hy-AM</td>\n",
       "    </tr>\n",
       "    <tr>\n",
       "      <th>5458585</th>\n",
       "      <td>/media/capstone/HDD2/data/MozillaCV/hy-AM/Trai...</td>\n",
       "      <td>hy-AM</td>\n",
       "    </tr>\n",
       "    <tr>\n",
       "      <th>5458586</th>\n",
       "      <td>/media/capstone/HDD2/data/MozillaCV/hy-AM/Trai...</td>\n",
       "      <td>hy-AM</td>\n",
       "    </tr>\n",
       "    <tr>\n",
       "      <th>5458587</th>\n",
       "      <td>/media/capstone/HDD2/data/MozillaCV/hy-AM/Trai...</td>\n",
       "      <td>hy-AM</td>\n",
       "    </tr>\n",
       "  </tbody>\n",
       "</table>\n",
       "<p>2986863 rows × 2 columns</p>\n",
       "</div>"
      ],
      "text/plain": [
       "                                                      path language\n",
       "1327129  /media/capstone/HDD3/data/language_detection/M...       en\n",
       "651544   /media/capstone/HDD3/data/language_detection/M...       en\n",
       "117083   /media/capstone/HDD3/data/language_detection/M...       en\n",
       "178623   /media/capstone/HDD3/data/language_detection/M...       en\n",
       "766780   /media/capstone/HDD3/data/language_detection/M...       en\n",
       "...                                                    ...      ...\n",
       "5458583  /media/capstone/HDD2/data/MozillaCV/hy-AM/Trai...    hy-AM\n",
       "5458584  /media/capstone/HDD2/data/MozillaCV/hy-AM/Trai...    hy-AM\n",
       "5458585  /media/capstone/HDD2/data/MozillaCV/hy-AM/Trai...    hy-AM\n",
       "5458586  /media/capstone/HDD2/data/MozillaCV/hy-AM/Trai...    hy-AM\n",
       "5458587  /media/capstone/HDD2/data/MozillaCV/hy-AM/Trai...    hy-AM\n",
       "\n",
       "[2986863 rows x 2 columns]"
      ]
     },
     "execution_count": 95,
     "metadata": {},
     "output_type": "execute_result"
    }
   ],
   "source": [
    "cutted_data.reindex()"
   ]
  },
  {
   "cell_type": "code",
   "execution_count": 98,
   "id": "9107fe7f",
   "metadata": {},
   "outputs": [],
   "source": [
    "cutted_data = cutted_data.reset_index(drop=True)"
   ]
  },
  {
   "cell_type": "code",
   "execution_count": 99,
   "id": "9db6db51",
   "metadata": {},
   "outputs": [
    {
     "data": {
      "text/html": [
       "<div>\n",
       "<style scoped>\n",
       "    .dataframe tbody tr th:only-of-type {\n",
       "        vertical-align: middle;\n",
       "    }\n",
       "\n",
       "    .dataframe tbody tr th {\n",
       "        vertical-align: top;\n",
       "    }\n",
       "\n",
       "    .dataframe thead th {\n",
       "        text-align: right;\n",
       "    }\n",
       "</style>\n",
       "<table border=\"1\" class=\"dataframe\">\n",
       "  <thead>\n",
       "    <tr style=\"text-align: right;\">\n",
       "      <th></th>\n",
       "      <th>path</th>\n",
       "      <th>language</th>\n",
       "    </tr>\n",
       "  </thead>\n",
       "  <tbody>\n",
       "    <tr>\n",
       "      <th>0</th>\n",
       "      <td>/media/capstone/HDD3/data/language_detection/M...</td>\n",
       "      <td>en</td>\n",
       "    </tr>\n",
       "    <tr>\n",
       "      <th>1</th>\n",
       "      <td>/media/capstone/HDD3/data/language_detection/M...</td>\n",
       "      <td>en</td>\n",
       "    </tr>\n",
       "    <tr>\n",
       "      <th>2</th>\n",
       "      <td>/media/capstone/HDD3/data/language_detection/M...</td>\n",
       "      <td>en</td>\n",
       "    </tr>\n",
       "    <tr>\n",
       "      <th>3</th>\n",
       "      <td>/media/capstone/HDD3/data/language_detection/M...</td>\n",
       "      <td>en</td>\n",
       "    </tr>\n",
       "    <tr>\n",
       "      <th>4</th>\n",
       "      <td>/media/capstone/HDD3/data/language_detection/M...</td>\n",
       "      <td>en</td>\n",
       "    </tr>\n",
       "    <tr>\n",
       "      <th>...</th>\n",
       "      <td>...</td>\n",
       "      <td>...</td>\n",
       "    </tr>\n",
       "    <tr>\n",
       "      <th>2986858</th>\n",
       "      <td>/media/capstone/HDD2/data/MozillaCV/hy-AM/Trai...</td>\n",
       "      <td>hy-AM</td>\n",
       "    </tr>\n",
       "    <tr>\n",
       "      <th>2986859</th>\n",
       "      <td>/media/capstone/HDD2/data/MozillaCV/hy-AM/Trai...</td>\n",
       "      <td>hy-AM</td>\n",
       "    </tr>\n",
       "    <tr>\n",
       "      <th>2986860</th>\n",
       "      <td>/media/capstone/HDD2/data/MozillaCV/hy-AM/Trai...</td>\n",
       "      <td>hy-AM</td>\n",
       "    </tr>\n",
       "    <tr>\n",
       "      <th>2986861</th>\n",
       "      <td>/media/capstone/HDD2/data/MozillaCV/hy-AM/Trai...</td>\n",
       "      <td>hy-AM</td>\n",
       "    </tr>\n",
       "    <tr>\n",
       "      <th>2986862</th>\n",
       "      <td>/media/capstone/HDD2/data/MozillaCV/hy-AM/Trai...</td>\n",
       "      <td>hy-AM</td>\n",
       "    </tr>\n",
       "  </tbody>\n",
       "</table>\n",
       "<p>2986863 rows × 2 columns</p>\n",
       "</div>"
      ],
      "text/plain": [
       "                                                      path language\n",
       "0        /media/capstone/HDD3/data/language_detection/M...       en\n",
       "1        /media/capstone/HDD3/data/language_detection/M...       en\n",
       "2        /media/capstone/HDD3/data/language_detection/M...       en\n",
       "3        /media/capstone/HDD3/data/language_detection/M...       en\n",
       "4        /media/capstone/HDD3/data/language_detection/M...       en\n",
       "...                                                    ...      ...\n",
       "2986858  /media/capstone/HDD2/data/MozillaCV/hy-AM/Trai...    hy-AM\n",
       "2986859  /media/capstone/HDD2/data/MozillaCV/hy-AM/Trai...    hy-AM\n",
       "2986860  /media/capstone/HDD2/data/MozillaCV/hy-AM/Trai...    hy-AM\n",
       "2986861  /media/capstone/HDD2/data/MozillaCV/hy-AM/Trai...    hy-AM\n",
       "2986862  /media/capstone/HDD2/data/MozillaCV/hy-AM/Trai...    hy-AM\n",
       "\n",
       "[2986863 rows x 2 columns]"
      ]
     },
     "execution_count": 99,
     "metadata": {},
     "output_type": "execute_result"
    }
   ],
   "source": [
    "cutted_data"
   ]
  },
  {
   "cell_type": "code",
   "execution_count": 100,
   "id": "58e4aaa6",
   "metadata": {},
   "outputs": [
    {
     "data": {
      "text/plain": [
       "Counter({'en': 500000,\n",
       "         'fr': 500000,\n",
       "         'de': 500000,\n",
       "         'es': 274835,\n",
       "         'be': 500000,\n",
       "         'el': 12270,\n",
       "         'it': 199126,\n",
       "         'ca': 500000,\n",
       "         'hy-AM': 632})"
      ]
     },
     "execution_count": 100,
     "metadata": {},
     "output_type": "execute_result"
    }
   ],
   "source": [
    "Counter(cutted_data.language)"
   ]
  },
  {
   "cell_type": "code",
   "execution_count": 101,
   "id": "6e7a13f0",
   "metadata": {},
   "outputs": [
    {
     "name": "stdout",
     "output_type": "stream",
     "text": [
      "accents_analytics.ipynb  \u001b[0m\u001b[01;34mCapstone\u001b[0m/    \u001b[01;34msource_data\u001b[0m/    \u001b[01;34mvenvs\u001b[0m/\r\n",
      "accents.csv              results.csv  Untitled.ipynb\r\n"
     ]
    }
   ],
   "source": [
    "ls"
   ]
  },
  {
   "cell_type": "code",
   "execution_count": 102,
   "id": "cf2e588b",
   "metadata": {},
   "outputs": [],
   "source": [
    "cutted_data.to_csv(\"/media/capstone/HDD2/data/labels/Train_mozilla.csv\")"
   ]
  },
  {
   "cell_type": "code",
   "execution_count": 71,
   "id": "ce92cc83",
   "metadata": {},
   "outputs": [],
   "source": [
    "import random\n",
    "import numpy as np"
   ]
  },
  {
   "cell_type": "code",
   "execution_count": 93,
   "id": "7edec27a",
   "metadata": {},
   "outputs": [
    {
     "data": {
      "text/html": [
       "<div>\n",
       "<style scoped>\n",
       "    .dataframe tbody tr th:only-of-type {\n",
       "        vertical-align: middle;\n",
       "    }\n",
       "\n",
       "    .dataframe tbody tr th {\n",
       "        vertical-align: top;\n",
       "    }\n",
       "\n",
       "    .dataframe thead th {\n",
       "        text-align: right;\n",
       "    }\n",
       "</style>\n",
       "<table border=\"1\" class=\"dataframe\">\n",
       "  <thead>\n",
       "    <tr style=\"text-align: right;\">\n",
       "      <th></th>\n",
       "      <th>path</th>\n",
       "      <th>language</th>\n",
       "    </tr>\n",
       "  </thead>\n",
       "  <tbody>\n",
       "    <tr>\n",
       "      <th>4635960</th>\n",
       "      <td>/media/capstone/HDD3/data/language_detection/M...</td>\n",
       "      <td>ca</td>\n",
       "    </tr>\n",
       "    <tr>\n",
       "      <th>4681442</th>\n",
       "      <td>/media/capstone/HDD3/data/language_detection/M...</td>\n",
       "      <td>ca</td>\n",
       "    </tr>\n",
       "    <tr>\n",
       "      <th>2751255</th>\n",
       "      <td>/media/capstone/HDD3/data/language_detection/M...</td>\n",
       "      <td>de</td>\n",
       "    </tr>\n",
       "    <tr>\n",
       "      <th>1382838</th>\n",
       "      <td>/media/capstone/HDD3/data/language_detection/M...</td>\n",
       "      <td>en</td>\n",
       "    </tr>\n",
       "  </tbody>\n",
       "</table>\n",
       "</div>"
      ],
      "text/plain": [
       "                                                      path language\n",
       "4635960  /media/capstone/HDD3/data/language_detection/M...       ca\n",
       "4681442  /media/capstone/HDD3/data/language_detection/M...       ca\n",
       "2751255  /media/capstone/HDD3/data/language_detection/M...       de\n",
       "1382838  /media/capstone/HDD3/data/language_detection/M...       en"
      ]
     },
     "execution_count": 93,
     "metadata": {},
     "output_type": "execute_result"
    }
   ],
   "source": [
    "data_train.sample(n=4)"
   ]
  },
  {
   "cell_type": "code",
   "execution_count": 72,
   "id": "d4f150c0",
   "metadata": {},
   "outputs": [
    {
     "ename": "KeyError",
     "evalue": "1396234",
     "output_type": "error",
     "traceback": [
      "\u001b[0;31m---------------------------------------------------------------------------\u001b[0m",
      "\u001b[0;31mKeyError\u001b[0m                                  Traceback (most recent call last)",
      "File \u001b[0;32m~/Desktop/Krisp/venvs/capstone-venv/lib/python3.8/site-packages/pandas/core/indexes/base.py:3803\u001b[0m, in \u001b[0;36mIndex.get_loc\u001b[0;34m(self, key, method, tolerance)\u001b[0m\n\u001b[1;32m   3802\u001b[0m \u001b[38;5;28;01mtry\u001b[39;00m:\n\u001b[0;32m-> 3803\u001b[0m     \u001b[38;5;28;01mreturn\u001b[39;00m \u001b[38;5;28;43mself\u001b[39;49m\u001b[38;5;241;43m.\u001b[39;49m\u001b[43m_engine\u001b[49m\u001b[38;5;241;43m.\u001b[39;49m\u001b[43mget_loc\u001b[49m\u001b[43m(\u001b[49m\u001b[43mcasted_key\u001b[49m\u001b[43m)\u001b[49m\n\u001b[1;32m   3804\u001b[0m \u001b[38;5;28;01mexcept\u001b[39;00m \u001b[38;5;167;01mKeyError\u001b[39;00m \u001b[38;5;28;01mas\u001b[39;00m err:\n",
      "File \u001b[0;32m~/Desktop/Krisp/venvs/capstone-venv/lib/python3.8/site-packages/pandas/_libs/index.pyx:138\u001b[0m, in \u001b[0;36mpandas._libs.index.IndexEngine.get_loc\u001b[0;34m()\u001b[0m\n",
      "File \u001b[0;32m~/Desktop/Krisp/venvs/capstone-venv/lib/python3.8/site-packages/pandas/_libs/index.pyx:165\u001b[0m, in \u001b[0;36mpandas._libs.index.IndexEngine.get_loc\u001b[0;34m()\u001b[0m\n",
      "File \u001b[0;32mpandas/_libs/hashtable_class_helper.pxi:5745\u001b[0m, in \u001b[0;36mpandas._libs.hashtable.PyObjectHashTable.get_item\u001b[0;34m()\u001b[0m\n",
      "File \u001b[0;32mpandas/_libs/hashtable_class_helper.pxi:5753\u001b[0m, in \u001b[0;36mpandas._libs.hashtable.PyObjectHashTable.get_item\u001b[0;34m()\u001b[0m\n",
      "\u001b[0;31mKeyError\u001b[0m: 1396234",
      "\nThe above exception was the direct cause of the following exception:\n",
      "\u001b[0;31mKeyError\u001b[0m                                  Traceback (most recent call last)",
      "Cell \u001b[0;32mIn[72], line 1\u001b[0m\n\u001b[0;32m----> 1\u001b[0m \u001b[43mrandom\u001b[49m\u001b[38;5;241;43m.\u001b[39;49m\u001b[43mchoice\u001b[49m\u001b[43m(\u001b[49m\u001b[43mdata_train\u001b[49m\u001b[43m[\u001b[49m\u001b[43mdata_train\u001b[49m\u001b[43m[\u001b[49m\u001b[38;5;124;43m'\u001b[39;49m\u001b[38;5;124;43mlanguage\u001b[39;49m\u001b[38;5;124;43m'\u001b[39;49m\u001b[43m]\u001b[49m\u001b[43m \u001b[49m\u001b[38;5;241;43m==\u001b[39;49m\u001b[43m \u001b[49m\u001b[38;5;124;43m'\u001b[39;49m\u001b[38;5;124;43men\u001b[39;49m\u001b[38;5;124;43m'\u001b[39;49m\u001b[43m]\u001b[49m\u001b[43m)\u001b[49m\n",
      "File \u001b[0;32m/usr/lib/python3.8/random.py:291\u001b[0m, in \u001b[0;36mRandom.choice\u001b[0;34m(self, seq)\u001b[0m\n\u001b[1;32m    289\u001b[0m \u001b[38;5;28;01mexcept\u001b[39;00m \u001b[38;5;167;01mValueError\u001b[39;00m:\n\u001b[1;32m    290\u001b[0m     \u001b[38;5;28;01mraise\u001b[39;00m \u001b[38;5;167;01mIndexError\u001b[39;00m(\u001b[38;5;124m'\u001b[39m\u001b[38;5;124mCannot choose from an empty sequence\u001b[39m\u001b[38;5;124m'\u001b[39m) \u001b[38;5;28;01mfrom\u001b[39;00m \u001b[38;5;28mNone\u001b[39m\n\u001b[0;32m--> 291\u001b[0m \u001b[38;5;28;01mreturn\u001b[39;00m \u001b[43mseq\u001b[49m\u001b[43m[\u001b[49m\u001b[43mi\u001b[49m\u001b[43m]\u001b[49m\n",
      "File \u001b[0;32m~/Desktop/Krisp/venvs/capstone-venv/lib/python3.8/site-packages/pandas/core/frame.py:3805\u001b[0m, in \u001b[0;36mDataFrame.__getitem__\u001b[0;34m(self, key)\u001b[0m\n\u001b[1;32m   3803\u001b[0m \u001b[38;5;28;01mif\u001b[39;00m \u001b[38;5;28mself\u001b[39m\u001b[38;5;241m.\u001b[39mcolumns\u001b[38;5;241m.\u001b[39mnlevels \u001b[38;5;241m>\u001b[39m \u001b[38;5;241m1\u001b[39m:\n\u001b[1;32m   3804\u001b[0m     \u001b[38;5;28;01mreturn\u001b[39;00m \u001b[38;5;28mself\u001b[39m\u001b[38;5;241m.\u001b[39m_getitem_multilevel(key)\n\u001b[0;32m-> 3805\u001b[0m indexer \u001b[38;5;241m=\u001b[39m \u001b[38;5;28;43mself\u001b[39;49m\u001b[38;5;241;43m.\u001b[39;49m\u001b[43mcolumns\u001b[49m\u001b[38;5;241;43m.\u001b[39;49m\u001b[43mget_loc\u001b[49m\u001b[43m(\u001b[49m\u001b[43mkey\u001b[49m\u001b[43m)\u001b[49m\n\u001b[1;32m   3806\u001b[0m \u001b[38;5;28;01mif\u001b[39;00m is_integer(indexer):\n\u001b[1;32m   3807\u001b[0m     indexer \u001b[38;5;241m=\u001b[39m [indexer]\n",
      "File \u001b[0;32m~/Desktop/Krisp/venvs/capstone-venv/lib/python3.8/site-packages/pandas/core/indexes/base.py:3805\u001b[0m, in \u001b[0;36mIndex.get_loc\u001b[0;34m(self, key, method, tolerance)\u001b[0m\n\u001b[1;32m   3803\u001b[0m     \u001b[38;5;28;01mreturn\u001b[39;00m \u001b[38;5;28mself\u001b[39m\u001b[38;5;241m.\u001b[39m_engine\u001b[38;5;241m.\u001b[39mget_loc(casted_key)\n\u001b[1;32m   3804\u001b[0m \u001b[38;5;28;01mexcept\u001b[39;00m \u001b[38;5;167;01mKeyError\u001b[39;00m \u001b[38;5;28;01mas\u001b[39;00m err:\n\u001b[0;32m-> 3805\u001b[0m     \u001b[38;5;28;01mraise\u001b[39;00m \u001b[38;5;167;01mKeyError\u001b[39;00m(key) \u001b[38;5;28;01mfrom\u001b[39;00m \u001b[38;5;21;01merr\u001b[39;00m\n\u001b[1;32m   3806\u001b[0m \u001b[38;5;28;01mexcept\u001b[39;00m \u001b[38;5;167;01mTypeError\u001b[39;00m:\n\u001b[1;32m   3807\u001b[0m     \u001b[38;5;66;03m# If we have a listlike key, _check_indexing_error will raise\u001b[39;00m\n\u001b[1;32m   3808\u001b[0m     \u001b[38;5;66;03m#  InvalidIndexError. Otherwise we fall through and re-raise\u001b[39;00m\n\u001b[1;32m   3809\u001b[0m     \u001b[38;5;66;03m#  the TypeError.\u001b[39;00m\n\u001b[1;32m   3810\u001b[0m     \u001b[38;5;28mself\u001b[39m\u001b[38;5;241m.\u001b[39m_check_indexing_error(key)\n",
      "\u001b[0;31mKeyError\u001b[0m: 1396234"
     ]
    }
   ],
   "source": [
    "random.choice(data_train[data_train['language'] == 'en'])"
   ]
  },
  {
   "cell_type": "code",
   "execution_count": null,
   "id": "295797c9",
   "metadata": {},
   "outputs": [],
   "source": []
  }
 ],
 "metadata": {
  "kernelspec": {
   "display_name": "Python 3 (ipykernel)",
   "language": "python",
   "name": "python3"
  },
  "language_info": {
   "codemirror_mode": {
    "name": "ipython",
    "version": 3
   },
   "file_extension": ".py",
   "mimetype": "text/x-python",
   "name": "python",
   "nbconvert_exporter": "python",
   "pygments_lexer": "ipython3",
   "version": "3.8.10"
  }
 },
 "nbformat": 4,
 "nbformat_minor": 5
}
